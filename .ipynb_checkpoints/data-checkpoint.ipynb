{
 "cells": [
  {
   "cell_type": "code",
   "execution_count": 42,
   "metadata": {
    "collapsed": true
   },
   "outputs": [],
   "source": [
    "import os\n",
    "import pandas as pd\n",
    "import matplotlib.pyplot as plt\n",
    "import cv2\n",
    "import numpy as np\n",
    "import tensorflow as tf"
   ]
  },
  {
   "cell_type": "code",
   "execution_count": 33,
   "metadata": {
    "collapsed": false
   },
   "outputs": [
    {
     "data": {
      "text/html": [
       "<script>\n",
       "code_show_err=false; \n",
       "function code_toggle_err() {\n",
       " if (code_show_err){\n",
       " $('div.output_stderr').hide();\n",
       " } else {\n",
       " $('div.output_stderr').show();\n",
       " }\n",
       " code_show_err = !code_show_err\n",
       "} \n",
       "$( document ).ready(code_toggle_err);\n",
       "</script>\n",
       "To toggle on/off output_stderr, click <a href=\"javascript:code_toggle_err()\">here</a>."
      ],
      "text/plain": [
       "<IPython.core.display.HTML object>"
      ]
     },
     "execution_count": 33,
     "metadata": {},
     "output_type": "execute_result"
    }
   ],
   "source": [
    "from IPython.display import HTML\n",
    "HTML('''<script>\n",
    "code_show_err=false; \n",
    "function code_toggle_err() {\n",
    " if (code_show_err){\n",
    " $('div.output_stderr').hide();\n",
    " } else {\n",
    " $('div.output_stderr').show();\n",
    " }\n",
    " code_show_err = !code_show_err\n",
    "} \n",
    "$( document ).ready(code_toggle_err);\n",
    "</script>\n",
    "To toggle on/off output_stderr, click <a href=\"javascript:code_toggle_err()\">here</a>.''')"
   ]
  },
  {
   "cell_type": "code",
   "execution_count": 34,
   "metadata": {
    "collapsed": false
   },
   "outputs": [
    {
     "name": "stderr",
     "output_type": "stream",
     "text": [
      "Skipping line 23: expected 9 fields, saw 10\n",
      "Skipping line 48: expected 9 fields, saw 10\n",
      "Skipping line 75: expected 9 fields, saw 10\n",
      "Skipping line 100: expected 9 fields, saw 10\n",
      "Skipping line 118: expected 9 fields, saw 10\n",
      "Skipping line 136: expected 9 fields, saw 10\n",
      "Skipping line 196: expected 9 fields, saw 10\n",
      "Skipping line 215: expected 9 fields, saw 10\n",
      "Skipping line 273: expected 9 fields, saw 10\n",
      "Skipping line 291: expected 9 fields, saw 10\n",
      "Skipping line 1345: expected 9 fields, saw 10\n",
      "Skipping line 1421: expected 9 fields, saw 10\n",
      "Skipping line 1498: expected 9 fields, saw 10\n",
      "Skipping line 2351: expected 9 fields, saw 10\n",
      "Skipping line 19778: expected 9 fields, saw 11\n",
      "Skipping line 19960: expected 9 fields, saw 11\n",
      "Skipping line 20711: expected 9 fields, saw 11\n",
      "Skipping line 20743: expected 9 fields, saw 10\n",
      "Skipping line 20784: expected 9 fields, saw 11\n",
      "Skipping line 20801: expected 9 fields, saw 11\n",
      "Skipping line 20822: expected 9 fields, saw 11\n",
      "Skipping line 20853: expected 9 fields, saw 11\n",
      "Skipping line 20898: expected 9 fields, saw 11\n",
      "Skipping line 20930: expected 9 fields, saw 10\n",
      "Skipping line 20946: expected 9 fields, saw 11\n",
      "Skipping line 20951: expected 9 fields, saw 10\n",
      "Skipping line 21001: expected 9 fields, saw 10\n",
      "Skipping line 21085: expected 9 fields, saw 10\n",
      "Skipping line 21102: expected 9 fields, saw 11\n",
      "Skipping line 21162: expected 9 fields, saw 11\n",
      "Skipping line 21197: expected 9 fields, saw 10\n",
      "Skipping line 59204: expected 9 fields, saw 11\n",
      "\n"
     ]
    },
    {
     "data": {
      "text/html": [
       "<div>\n",
       "<style scoped>\n",
       "    .dataframe tbody tr th:only-of-type {\n",
       "        vertical-align: middle;\n",
       "    }\n",
       "\n",
       "    .dataframe tbody tr th {\n",
       "        vertical-align: top;\n",
       "    }\n",
       "\n",
       "    .dataframe thead th {\n",
       "        text-align: right;\n",
       "    }\n",
       "</style>\n",
       "<table border=\"1\" class=\"dataframe\">\n",
       "  <thead>\n",
       "    <tr style=\"text-align: right;\">\n",
       "      <th></th>\n",
       "      <th>0</th>\n",
       "      <th>1</th>\n",
       "      <th>2</th>\n",
       "      <th>3</th>\n",
       "      <th>4</th>\n",
       "      <th>5</th>\n",
       "      <th>6</th>\n",
       "      <th>7</th>\n",
       "      <th>8</th>\n",
       "    </tr>\n",
       "  </thead>\n",
       "  <tbody>\n",
       "    <tr>\n",
       "      <th>0</th>\n",
       "      <td>a01-000u-00-00</td>\n",
       "      <td>ok</td>\n",
       "      <td>154</td>\n",
       "      <td>408</td>\n",
       "      <td>768</td>\n",
       "      <td>27</td>\n",
       "      <td>51</td>\n",
       "      <td>AT</td>\n",
       "      <td>A</td>\n",
       "    </tr>\n",
       "    <tr>\n",
       "      <th>1</th>\n",
       "      <td>a01-000u-00-01</td>\n",
       "      <td>ok</td>\n",
       "      <td>154</td>\n",
       "      <td>507</td>\n",
       "      <td>766</td>\n",
       "      <td>213</td>\n",
       "      <td>48</td>\n",
       "      <td>NN</td>\n",
       "      <td>MOVE</td>\n",
       "    </tr>\n",
       "    <tr>\n",
       "      <th>2</th>\n",
       "      <td>a01-000u-00-02</td>\n",
       "      <td>ok</td>\n",
       "      <td>154</td>\n",
       "      <td>796</td>\n",
       "      <td>764</td>\n",
       "      <td>70</td>\n",
       "      <td>50</td>\n",
       "      <td>TO</td>\n",
       "      <td>to</td>\n",
       "    </tr>\n",
       "    <tr>\n",
       "      <th>3</th>\n",
       "      <td>a01-000u-00-03</td>\n",
       "      <td>ok</td>\n",
       "      <td>154</td>\n",
       "      <td>919</td>\n",
       "      <td>757</td>\n",
       "      <td>166</td>\n",
       "      <td>78</td>\n",
       "      <td>VB</td>\n",
       "      <td>stop</td>\n",
       "    </tr>\n",
       "    <tr>\n",
       "      <th>4</th>\n",
       "      <td>a01-000u-00-04</td>\n",
       "      <td>ok</td>\n",
       "      <td>154</td>\n",
       "      <td>1185</td>\n",
       "      <td>754</td>\n",
       "      <td>126</td>\n",
       "      <td>61</td>\n",
       "      <td>NPT</td>\n",
       "      <td>Mr.</td>\n",
       "    </tr>\n",
       "  </tbody>\n",
       "</table>\n",
       "</div>"
      ],
      "text/plain": [
       "                0   1    2     3    4    5   6    7     8\n",
       "0  a01-000u-00-00  ok  154   408  768   27  51   AT     A\n",
       "1  a01-000u-00-01  ok  154   507  766  213  48   NN  MOVE\n",
       "2  a01-000u-00-02  ok  154   796  764   70  50   TO    to\n",
       "3  a01-000u-00-03  ok  154   919  757  166  78   VB  stop\n",
       "4  a01-000u-00-04  ok  154  1185  754  126  61  NPT   Mr."
      ]
     },
     "execution_count": 34,
     "metadata": {},
     "output_type": "execute_result"
    }
   ],
   "source": [
    "data = pd.read_csv('words.txt', error_bad_lines=False , sep  = \" \" , header = None)\n",
    "data.head()"
   ]
  },
  {
   "cell_type": "code",
   "execution_count": 55,
   "metadata": {
    "collapsed": false
   },
   "outputs": [
    {
     "name": "stdout",
     "output_type": "stream",
     "text": [
      "(100, 40000)\n",
      "(100,)\n"
     ]
    }
   ],
   "source": [
    "X_data = np.zeros((100 , 200*200))\n",
    "Y_data = []\n",
    "\n",
    "for i in range(100):\n",
    "    \n",
    "    #do not use images with error\n",
    "    \n",
    "    if data.iloc[i,-1] == 'err':\n",
    "        continue\n",
    "        \n",
    "    # image id from data frame    \n",
    "    img_id = data.iloc[i,0]\n",
    "    \n",
    "    # address of image \n",
    "    id_arr = img_id.split(\"-\")\n",
    "    img_address = \"./words/\" + id_arr[0] + \"/\" +id_arr[0] + \"-\"+ id_arr[1] +\"/\" + img_id + \".png\"\n",
    "    \n",
    "    #loading  image\n",
    "    img = cv2.imread(img_address , cv2.IMREAD_GRAYSCALE)\n",
    "    r_img = cv2.resize(img, (200,200), interpolation = cv2.INTER_AREA)\n",
    "    \n",
    "    # resizing into 1d array and storing into X_data\n",
    "    X_data[i] = r_img.reshape(r_img.shape[0]*r_img.shape[1])  \n",
    "    Y_data.append(data.iloc[i,-1]) #storing label\n",
    "\n",
    "#     plt.imshow(r_img)\n",
    "#     plt.show()\n",
    "\n",
    "Y_data = np.array(Y_data)\n",
    "print(X_data.shape)\n",
    "print(Y_data.shape)"
   ]
  },
  {
   "cell_type": "code",
   "execution_count": null,
   "metadata": {
    "collapsed": true
   },
   "outputs": [],
   "source": []
  }
 ],
 "metadata": {
  "anaconda-cloud": {},
  "kernelspec": {
   "display_name": "Python [conda root]",
   "language": "python",
   "name": "conda-root-py"
  },
  "language_info": {
   "codemirror_mode": {
    "name": "ipython",
    "version": 2
   },
   "file_extension": ".py",
   "mimetype": "text/x-python",
   "name": "python",
   "nbconvert_exporter": "python",
   "pygments_lexer": "ipython2",
   "version": "2.7.12"
  }
 },
 "nbformat": 4,
 "nbformat_minor": 1
}
